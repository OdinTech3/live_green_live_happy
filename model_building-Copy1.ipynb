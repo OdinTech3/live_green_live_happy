{
 "cells": [
  {
   "cell_type": "code",
   "execution_count": 51,
   "metadata": {},
   "outputs": [],
   "source": [
    "import pandas as pd\n",
    "import pulp as lp\n",
    "import numpy as np\n",
    "from operator import iadd\n",
    "from functools import reduce\n",
    "from typing import Sequence, Any, DefaultDict, List"
   ]
  },
  {
   "cell_type": "code",
   "execution_count": 52,
   "metadata": {},
   "outputs": [],
   "source": [
    "def create_prob(prob_name: str, sense: int) -> lp.LpProblem:\n",
    "    return lp.LpProblem(prob_name, sense)\n",
    "\n",
    "\n",
    "def add_obj_fn(lp_prob: lp.LpProblem, dvar: lp.LpAffineExpression) -> lp.LpProblem:\n",
    "    return iadd(lp_prob, dvar)\n",
    "\n",
    "\n",
    "def add_constraint(lp_prob: lp.LpProblem, constrs: Sequence[lp.LpConstraint]) -> lp.LpProblem:\n",
    "   return reduce(iadd, constrs, lp_prob)\n",
    "\n",
    "\n",
    "def head(x: Sequence) -> Any:\n",
    "    return x[0]\n",
    "\n",
    "def to_str(indnum, activity) -> str:\n",
    "    return f'{indnum} - {activity}'"
   ]
  },
  {
   "cell_type": "code",
   "execution_count": 53,
   "metadata": {},
   "outputs": [],
   "source": [
    "df = pd.read_csv('data/dataset.csv')\n",
    "\n",
    "df.drop('Unnamed: 0', axis=1, inplace=True) # Drop Unnamed column"
   ]
  },
  {
   "cell_type": "code",
   "execution_count": 54,
   "metadata": {},
   "outputs": [
    {
     "data": {
      "text/html": [
       "<div>\n",
       "<style scoped>\n",
       "    .dataframe tbody tr th:only-of-type {\n",
       "        vertical-align: middle;\n",
       "    }\n",
       "\n",
       "    .dataframe tbody tr th {\n",
       "        vertical-align: top;\n",
       "    }\n",
       "\n",
       "    .dataframe thead th {\n",
       "        text-align: right;\n",
       "    }\n",
       "</style>\n",
       "<table border=\"1\" class=\"dataframe\">\n",
       "  <thead>\n",
       "    <tr style=\"text-align: right;\">\n",
       "      <th></th>\n",
       "      <th>Indnum</th>\n",
       "      <th>Group</th>\n",
       "      <th>Activity</th>\n",
       "      <th>Units</th>\n",
       "      <th>Consumption</th>\n",
       "      <th>Quality_of_Life_Importance__1_10</th>\n",
       "      <th>solar_powered_water_heater</th>\n",
       "      <th>gas_water_heater</th>\n",
       "      <th>electric_water_heater_peak_hour</th>\n",
       "      <th>electric_water_heater_off_peak</th>\n",
       "      <th>gas</th>\n",
       "      <th>natural_gas</th>\n",
       "      <th>hybrid</th>\n",
       "      <th>electric_peak_hours</th>\n",
       "      <th>electric_off_peak_hours</th>\n",
       "      <th>jetfuel</th>\n",
       "      <th>TCF</th>\n",
       "      <th>TrQL</th>\n",
       "    </tr>\n",
       "  </thead>\n",
       "  <tbody>\n",
       "    <tr>\n",
       "      <th>0</th>\n",
       "      <td>1</td>\n",
       "      <td>1</td>\n",
       "      <td>Household heating =&gt; 70F</td>\n",
       "      <td>hours</td>\n",
       "      <td>2</td>\n",
       "      <td>88</td>\n",
       "      <td>0.0</td>\n",
       "      <td>0.0</td>\n",
       "      <td>0.0</td>\n",
       "      <td>0.0</td>\n",
       "      <td>0.0</td>\n",
       "      <td>0.000436</td>\n",
       "      <td>0</td>\n",
       "      <td>0.0</td>\n",
       "      <td>0.0</td>\n",
       "      <td>0.0</td>\n",
       "      <td>0.000436</td>\n",
       "      <td>176</td>\n",
       "    </tr>\n",
       "    <tr>\n",
       "      <th>1</th>\n",
       "      <td>1</td>\n",
       "      <td>1</td>\n",
       "      <td>Household heating &lt; 70F</td>\n",
       "      <td>hours</td>\n",
       "      <td>10</td>\n",
       "      <td>85</td>\n",
       "      <td>0.0</td>\n",
       "      <td>0.0</td>\n",
       "      <td>0.0</td>\n",
       "      <td>0.0</td>\n",
       "      <td>0.0</td>\n",
       "      <td>0.000872</td>\n",
       "      <td>0</td>\n",
       "      <td>0.0</td>\n",
       "      <td>0.0</td>\n",
       "      <td>0.0</td>\n",
       "      <td>0.000872</td>\n",
       "      <td>850</td>\n",
       "    </tr>\n",
       "    <tr>\n",
       "      <th>2</th>\n",
       "      <td>1</td>\n",
       "      <td>1</td>\n",
       "      <td>Use of heat pump</td>\n",
       "      <td>hours</td>\n",
       "      <td>0</td>\n",
       "      <td>50</td>\n",
       "      <td>0.0</td>\n",
       "      <td>0.0</td>\n",
       "      <td>0.0</td>\n",
       "      <td>0.0</td>\n",
       "      <td>0.0</td>\n",
       "      <td>0.000000</td>\n",
       "      <td>0</td>\n",
       "      <td>0.0</td>\n",
       "      <td>0.0</td>\n",
       "      <td>0.0</td>\n",
       "      <td>0.000000</td>\n",
       "      <td>0</td>\n",
       "    </tr>\n",
       "    <tr>\n",
       "      <th>3</th>\n",
       "      <td>1</td>\n",
       "      <td>1</td>\n",
       "      <td>Use of air conditioner</td>\n",
       "      <td>hours</td>\n",
       "      <td>20</td>\n",
       "      <td>45</td>\n",
       "      <td>0.0</td>\n",
       "      <td>0.0</td>\n",
       "      <td>0.0</td>\n",
       "      <td>0.0</td>\n",
       "      <td>0.0</td>\n",
       "      <td>0.000000</td>\n",
       "      <td>0</td>\n",
       "      <td>0.0</td>\n",
       "      <td>0.0</td>\n",
       "      <td>0.0</td>\n",
       "      <td>0.000000</td>\n",
       "      <td>900</td>\n",
       "    </tr>\n",
       "    <tr>\n",
       "      <th>4</th>\n",
       "      <td>1</td>\n",
       "      <td>2</td>\n",
       "      <td>shower - short</td>\n",
       "      <td>count</td>\n",
       "      <td>5</td>\n",
       "      <td>98</td>\n",
       "      <td>0.0</td>\n",
       "      <td>0.0</td>\n",
       "      <td>0.0</td>\n",
       "      <td>0.0</td>\n",
       "      <td>0.0</td>\n",
       "      <td>0.000000</td>\n",
       "      <td>0</td>\n",
       "      <td>0.0</td>\n",
       "      <td>0.0</td>\n",
       "      <td>0.0</td>\n",
       "      <td>0.000000</td>\n",
       "      <td>490</td>\n",
       "    </tr>\n",
       "  </tbody>\n",
       "</table>\n",
       "</div>"
      ],
      "text/plain": [
       "   Indnum  Group                  Activity  Units  Consumption  \\\n",
       "0       1      1  Household heating => 70F  hours            2   \n",
       "1       1      1   Household heating < 70F  hours           10   \n",
       "2       1      1          Use of heat pump  hours            0   \n",
       "3       1      1    Use of air conditioner  hours           20   \n",
       "4       1      2            shower - short  count            5   \n",
       "\n",
       "   Quality_of_Life_Importance__1_10  solar_powered_water_heater  \\\n",
       "0                                88                         0.0   \n",
       "1                                85                         0.0   \n",
       "2                                50                         0.0   \n",
       "3                                45                         0.0   \n",
       "4                                98                         0.0   \n",
       "\n",
       "   gas_water_heater  electric_water_heater_peak_hour  \\\n",
       "0               0.0                              0.0   \n",
       "1               0.0                              0.0   \n",
       "2               0.0                              0.0   \n",
       "3               0.0                              0.0   \n",
       "4               0.0                              0.0   \n",
       "\n",
       "   electric_water_heater_off_peak  gas  natural_gas  hybrid  \\\n",
       "0                             0.0  0.0     0.000436       0   \n",
       "1                             0.0  0.0     0.000872       0   \n",
       "2                             0.0  0.0     0.000000       0   \n",
       "3                             0.0  0.0     0.000000       0   \n",
       "4                             0.0  0.0     0.000000       0   \n",
       "\n",
       "   electric_peak_hours  electric_off_peak_hours  jetfuel       TCF  TrQL  \n",
       "0                  0.0                      0.0      0.0  0.000436   176  \n",
       "1                  0.0                      0.0      0.0  0.000872   850  \n",
       "2                  0.0                      0.0      0.0  0.000000     0  \n",
       "3                  0.0                      0.0      0.0  0.000000   900  \n",
       "4                  0.0                      0.0      0.0  0.000000   490  "
      ]
     },
     "execution_count": 54,
     "metadata": {},
     "output_type": "execute_result"
    }
   ],
   "source": [
    "df.head()"
   ]
  },
  {
   "cell_type": "code",
   "execution_count": 55,
   "metadata": {},
   "outputs": [],
   "source": [
    "indv1_df = df.drop('Group', axis=1).loc[df['Indnum'] == 1]"
   ]
  },
  {
   "cell_type": "code",
   "execution_count": 56,
   "metadata": {},
   "outputs": [],
   "source": [
    "#indv1_df.head()"
   ]
  },
  {
   "cell_type": "code",
   "execution_count": 57,
   "metadata": {},
   "outputs": [],
   "source": [
    "gp_model = create_prob('Wells Fargo Challenge', lp.LpMinimize)"
   ]
  },
  {
   "cell_type": "markdown",
   "metadata": {},
   "source": [
    "## Decision Variables"
   ]
  },
  {
   "cell_type": "code",
   "execution_count": 58,
   "metadata": {},
   "outputs": [],
   "source": [
    "indv_num = indv1_df.Indnum.unique()\n",
    "actv_names = indv1_df.Activity.unique()\n",
    "\n",
    "sources = np.array([\n",
    "  \"solar_powered_water_heater\",\n",
    "  \"gas_water_heater\",\n",
    "  \"electric_water_heater_peak_hour\",\n",
    "  \"electric_water_heater_off_peak\",\n",
    "  \"gas\",\n",
    "  \"natural_gas\",\n",
    "  \"hybrid\",\n",
    "  \"electric_peak_hours\",\n",
    "  \"electric_off_peak_hours\",\n",
    "  \"jetfuel\"\n",
    "])"
   ]
  },
  {
   "cell_type": "code",
   "execution_count": 59,
   "metadata": {},
   "outputs": [],
   "source": [
    "consumption_indexes = [\n",
    "    (indv, activity)\n",
    "    for indv in indv_num\n",
    "    for activity in actv_names\n",
    "]\n",
    "\n",
    "C_ij = lp.LpVariable.dicts('C_ij', consumption_indexes, lowBound=0)"
   ]
  },
  {
   "cell_type": "markdown",
   "metadata": {},
   "source": [
    "## Objective Function"
   ]
  },
  {
   "cell_type": "markdown",
   "metadata": {},
   "source": [
    "### $Z_{min} = C_{ij} * \\sum CF_{ijk}$\n",
    "\n",
    "where \n",
    "    * i = individual\n",
    "    * j = activity\n",
    "    * k = source\n",
    "    * _C_ is the consumption per unit of an activity"
   ]
  },
  {
   "cell_type": "code",
   "execution_count": 62,
   "metadata": {},
   "outputs": [
    {
     "data": {
      "text/plain": [
       "0.000872*C_ij_(1,_'Household_heating_<_70F') + 0.000436*C_ij_(1,_'Household_heating_=__70F') + 0.000354*C_ij_(1,_'car_trips___2__people_with_multiple_end_points') + 0.000554*C_ij_(1,_'car_trips___driver_and_self') + 0.000551*C_ij_(1,_'car_trips__self_only') + 4.2e-05*C_ij_(1,_'wash_up') + 0.0"
      ]
     },
     "execution_count": 62,
     "metadata": {},
     "output_type": "execute_result"
    }
   ],
   "source": [
    "d_vars = []\n",
    "\n",
    "for indv in indv_num:\n",
    "    for activity in actv_names:\n",
    "        total_actv_cf: np.ndarray = indv1_df.loc[indv1_df['Activity'] == activity, 'TCF'].values\n",
    "        d_vars.append(C_ij[(indv, activity)] * head(total_actv_cf))\n",
    "\n",
    "\n",
    "obj_fn = lp.lpSum(d_vars)\n",
    "\n",
    "obj_fn"
   ]
  },
  {
   "cell_type": "markdown",
   "metadata": {},
   "source": [
    "## Constraints"
   ]
  },
  {
   "cell_type": "markdown",
   "metadata": {},
   "source": [
    "### $C_{ij} * QL_{ij} >= TrQL_{ij}$\n",
    "\n",
    "where \n",
    "    * i = individual\n",
    "    * j = activity\n",
    "    * _QL_ is the quality of life for an activity\n",
    "    * _TrQL_ is the true quality of life for an activity it is computed as $C_{ij} * QL_{ij}$"
   ]
  },
  {
   "cell_type": "code",
   "execution_count": 64,
   "metadata": {},
   "outputs": [
    {
     "data": {
      "text/plain": [
       "[88*C_ij_(1,_'Household_heating_=__70F') + -176 >= 0,\n",
       " 85*C_ij_(1,_'Household_heating_<_70F') + -850 >= 0,\n",
       " 50*C_ij_(1,_'Use_of_heat_pump') + 0 >= 0,\n",
       " 45*C_ij_(1,_'Use_of_air_conditioner') + -900 >= 0,\n",
       " 98*C_ij_(1,_'shower___short') + -490 >= 0,\n",
       " 74*C_ij_(1,_'shower___long_(__3_min)') + -2220 >= 0,\n",
       " 14*C_ij_(1,_'bath') + 0 >= 0,\n",
       " 27*C_ij_(1,_'wash_up') + -1188 >= 0,\n",
       " 20*C_ij_(1,_'use_of_dishwasher') + 0 >= 0,\n",
       " 28*C_ij_(1,_'use_of_clothes_washer') + -56 >= 0,\n",
       " 11*C_ij_(1,_'use_of_clothes_dryer') + -33 >= 0,\n",
       " 0 >= 0,\n",
       " 35*C_ij_(1,_'use_of__oven') + -315 >= 0,\n",
       " 15*C_ij_(1,_'use_of_self_clean_feature_of_electric_oven') + -45 >= 0,\n",
       " 0 >= 0,\n",
       " 23*C_ij_(1,_'TV_computer_use') + -1472 >= 0,\n",
       " 42*C_ij_(1,_'air_travel___large_plane') + -115374 >= 0,\n",
       " 0 >= 0,\n",
       " 44*C_ij_(1,_'car_trips__self_only') + -19492 >= 0,\n",
       " 27*C_ij_(1,_'car_trips___driver_and_self') + -1026 >= 0,\n",
       " 0 >= 0,\n",
       " 49*C_ij_(1,_'trips_using_public_ground_transportation') + -735 >= 0,\n",
       " 41*C_ij_(1,_'bags_of_garbage_disposed') + -1066 >= 0,\n",
       " 0 >= 0,\n",
       " 6*C_ij_(1,_'bags_of_compost_deposited_(negative_CF)') + -18 >= 0,\n",
       " 0 >= 0,\n",
       " 15*C_ij_(1,_'large_items_disposed') + -30 >= 0]"
      ]
     },
     "execution_count": 64,
     "metadata": {},
     "output_type": "execute_result"
    }
   ],
   "source": [
    "tr_ql_conds = []\n",
    "\n",
    "for indv in indv_num:\n",
    "    for activity in actv_names:\n",
    "        ql: np.ndarray = indv1_df.loc[indv1_df['Activity'] == activity, 'Quality_of_Life_Importance__1_10'].values\n",
    "        tr_ql: np.ndarray = indv1_df.loc[indv1_df['Activity'] == activity, 'TrQL'].values\n",
    "        condition = C_ij[(indv, activity)] * head(ql) >= head(tr_ql)\n",
    "            \n",
    "        tr_ql_conds.append(condition)\n",
    "\n",
    "tr_ql_conds"
   ]
  },
  {
   "cell_type": "code",
   "execution_count": 65,
   "metadata": {},
   "outputs": [],
   "source": [
    "gp_model = add_obj_fn(gp_model, obj_fn)\n",
    "\n",
    "gp_model = add_constraint(gp_model, tr_ql_conds)"
   ]
  },
  {
   "cell_type": "code",
   "execution_count": 66,
   "metadata": {},
   "outputs": [
    {
     "data": {
      "text/plain": [
       "1"
      ]
     },
     "execution_count": 66,
     "metadata": {},
     "output_type": "execute_result"
    }
   ],
   "source": [
    "gp_model.solve()"
   ]
  },
  {
   "cell_type": "code",
   "execution_count": 67,
   "metadata": {},
   "outputs": [
    {
     "data": {
      "text/plain": [
       "'Optimal'"
      ]
     },
     "execution_count": 67,
     "metadata": {},
     "output_type": "execute_result"
    }
   ],
   "source": [
    "lp.LpStatus[gp_model.status]"
   ]
  },
  {
   "cell_type": "code",
   "execution_count": 68,
   "metadata": {},
   "outputs": [
    {
     "data": {
      "text/plain": [
       "0.27658499999999997"
      ]
     },
     "execution_count": 68,
     "metadata": {},
     "output_type": "execute_result"
    }
   ],
   "source": [
    "lp.value(gp_model.objective)"
   ]
  },
  {
   "cell_type": "code",
   "execution_count": 74,
   "metadata": {},
   "outputs": [
    {
     "name": "stdout",
     "output_type": "stream",
     "text": [
      "Household heating => 70F | Consumption:  2.0 | Quality of Life 88\n",
      "Household heating < 70F | Consumption:  10.0 | Quality of Life 85\n",
      "Use of heat pump | Consumption:  0.0 | Quality of Life 50\n",
      "Use of air conditioner | Consumption:  20.0 | Quality of Life 45\n",
      "shower - short | Consumption:  5.0 | Quality of Life 98\n",
      "shower - long (> 3 min) | Consumption:  30.0 | Quality of Life 74\n",
      "bath | Consumption:  0.0 | Quality of Life 14\n",
      "wash-up | Consumption:  44.0 | Quality of Life 27\n",
      "use of dishwasher | Consumption:  0.0 | Quality of Life 20\n",
      "use of clothes washer | Consumption:  2.0 | Quality of Life 28\n",
      "use of clothes dryer | Consumption:  3.0 | Quality of Life 11\n",
      "use of cooking range | Consumption:  None | Quality of Life 0\n",
      "use of  oven | Consumption:  9.0 | Quality of Life 35\n",
      "use of self-clean feature of electric oven | Consumption:  3.0 | Quality of Life 15\n",
      "Small kitchen appliance in the home | Consumption:  None | Quality of Life 0\n",
      "TV/computer use | Consumption:  64.0 | Quality of Life 23\n",
      "air travel - large plane | Consumption:  2747.0 | Quality of Life 42\n",
      "air travel - small  plane (<50 seats) | Consumption:  None | Quality of Life 0\n",
      "car trips- self only | Consumption:  443.0 | Quality of Life 44\n",
      "car trips - driver and self | Consumption:  38.0 | Quality of Life 27\n",
      "car trips - 2+ people with multiple end points | Consumption:  0.0 | Quality of Life 0\n",
      "trips using public ground transportation | Consumption:  15.0 | Quality of Life 49\n",
      "bags of garbage disposed | Consumption:  26.0 | Quality of Life 41\n",
      "bags of recycling deposited (negative CF) | Consumption:  None | Quality of Life 0\n",
      "bags of compost deposited (negative CF) | Consumption:  3.0 | Quality of Life 6\n",
      "hazardous or electric items disposed | Consumption:  None | Quality of Life 0\n",
      "large items disposed | Consumption:  2.0 | Quality of Life 15\n"
     ]
    }
   ],
   "source": [
    "for indv in indv_num:\n",
    "    for activity in actv_names:\n",
    "            ql: np.ndarray = indv1_df.loc[indv1_df['Activity'] == activity, 'Quality_of_Life_Importance__1_10'].values\n",
    "            print(activity, '| Consumption: ', lp.value(C_ij[(indv, activity)]), '| Quality of Life', head(ql))"
   ]
  }
 ],
 "metadata": {
  "kernelspec": {
   "display_name": "Python 3",
   "language": "python",
   "name": "python3"
  },
  "language_info": {
   "codemirror_mode": {
    "name": "ipython",
    "version": 3
   },
   "file_extension": ".py",
   "mimetype": "text/x-python",
   "name": "python",
   "nbconvert_exporter": "python",
   "pygments_lexer": "ipython3",
   "version": "3.7.1"
  }
 },
 "nbformat": 4,
 "nbformat_minor": 2
}
